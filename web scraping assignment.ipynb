{
 "cells": [
  {
   "cell_type": "code",
   "execution_count": null,
   "id": "2b5b70c4",
   "metadata": {},
   "outputs": [],
   "source": [
    "import requests\n",
    "from bs4 import BeautifulSoup\n",
    "import pandas as pd\n",
    "\n",
    "def search_amazon(product):\n",
    "    url = f\"https://www.amazon.in/s?k={product}\"\n",
    "    headers = {\n",
    "        \"User-Agent\": \"Mozilla/5.0 (Windows NT 10.0; Win64; x64) AppleWebKit/537.36 (KHTML, like Gecko) Chrome/58.0.3029.110 Safari/537.3\"}\n",
    "    response = requests.get(url, headers=headers)\n",
    "    if response.status_code == 200:\n",
    "        return response.text\n",
    "    else:\n",
    "        print(\"Failed to retrieve data\")\n",
    "        return None\n",
    "\n",
    "def scrape_product_details(html):\n",
    "    soup = BeautifulSoup(html, \"html.parser\")\n",
    "    products = []\n",
    "    for item in soup.find_all(\"div\", class_=\"s-asin\"):\n",
    "        product_details = {}\n",
    "        product_details['Brand Name'] = item.find(\"span\", class_=\"a-size-base-plus\").text.strip()\n",
    "        product_details['Name of the Product'] = item.find(\"span\", class_=\"a-size-medium\").text.strip()\n",
    "        product_details['Price'] = item.find(\"span\", class_=\"a-offscreen\").text.strip()\n",
    "        product_details['Return/Exchange'] = item.find(\"span\", class_=\"a-size-small a-color-secondary\").text.strip()\n",
    "        product_details['Expected Delivery'] = item.find(\"span\", class_=\"a-text-bold\").text.strip()\n",
    "        product_details['Availability'] = item.find(\"span\", class_=\"a-size-base a-color-success\").text.strip()\n",
    "        product_details['Product URL'] = \"https://www.amazon.in\" + item.find(\"a\", class_=\"a-link-normal\").get('href')\n",
    "        products.append(product_details)\n",
    "    return products\n",
    "\n",
    "def scrape_first_three_pages(product):\n",
    "    all_products = []\n",
    "    for page_num in range(1, 4):\n",
    "        print(f\"Scraping page {page_num}\")\n",
    "        html = search_amazon(product + \"&page=\" + str(page_num))\n",
    "        if html:\n",
    "            products = scrape_product_details(html)\n",
    "            all_products.extend(products)\n",
    "    return all_products\n",
    "\n",
    "def save_to_csv(products, filename):\n",
    "    df = pd.DataFrame(products)\n",
    "    df.to_csv(filename, index=False)\n",
    "    print(f\"Data saved to {filename}\")\n",
    "\n",
    "def main():\n",
    "    product = input(\"Enter the product to search on Amazon: \")\n",
    "    all_products = scrape_first_three_pages(product)\n",
    "    save_to_csv(all_products, \"amazon_products.csv\")\n",
    "\n",
    "if __name__ == \"__main__\":\n",
    "    main()\n"
   ]
  },
  {
   "cell_type": "code",
   "execution_count": null,
   "id": "d05653bb",
   "metadata": {},
   "outputs": [],
   "source": []
  }
 ],
 "metadata": {
  "kernelspec": {
   "display_name": "Python 3 (ipykernel)",
   "language": "python",
   "name": "python3"
  },
  "language_info": {
   "codemirror_mode": {
    "name": "ipython",
    "version": 3
   },
   "file_extension": ".py",
   "mimetype": "text/x-python",
   "name": "python",
   "nbconvert_exporter": "python",
   "pygments_lexer": "ipython3",
   "version": "3.11.5"
  }
 },
 "nbformat": 4,
 "nbformat_minor": 5
}
